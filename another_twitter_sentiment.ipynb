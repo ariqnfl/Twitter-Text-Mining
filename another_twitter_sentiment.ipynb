{
  "cells": [
    {
      "cell_type": "code",
      "execution_count": null,
      "outputs": [],
      "source": "import re\nimport tweepy\nfrom tweepy import OAuthHandler\nfrom textblob import TextBlob\n\n\nclass TwitterClient(object):\n    \u0027\u0027\u0027\n    Generic Twitter Class for sentiment analysis.\n    \u0027\u0027\u0027\n\n    def __init__(self):\n        \u0027\u0027\u0027\n        Class constructor or initialization method.\n        \u0027\u0027\u0027\n        # keys and tokens from the Twitter Dev Console\n        consumer_key \u003d \u0027XXXXXXXXXXXXXXXXXXXXXXXXXXXXXXX\u0027\n        consumer_secret \u003d \u0027XXXXXXXXXXXXXXXXXXXXXXXXXXXXXXX\u0027\n        access_token \u003d \u0027XXXXXXXXXXXXXXXXXXXXXXXXXXXXXXX\u0027\n        access_token_secret \u003d \u0027XXXXXXXXXXXXXXXXXXXXXXXXXXXXXXX\u0027\n\n        # attempt authentication\n        try:\n            # create OAuthHandler object\n            self.auth \u003d OAuthHandler(consumer_key, consumer_secret)\n            # set access token and secret\n            self.auth.set_access_token(access_token, access_token_secret)\n            # create tweepy API object to fetch tweets\n            self.api \u003d tweepy.API(self.auth)\n        except:\n            print(\"Error: Authentication Failed\")\n\n    def clean_tweet(self, tweet):\n        \u0027\u0027\u0027\n        Utility function to clean tweet text by removing links, special characters\n        using simple regex statements.\n        \u0027\u0027\u0027\n        return \u0027 \u0027.join(re.sub(\"(@[A-Za-z0-9]+)|([^0-9A-Za-z \\t])|(\\w+:\\/\\/\\S+)\", \" \", tweet).split())\n\n    def get_tweet_sentiment(self, tweet):\n        \u0027\u0027\u0027\n        Utility function to classify sentiment of passed tweet\n        using textblob\u0027s sentiment method\n        \u0027\u0027\u0027\n        # create TextBlob object of passed tweet text\n        analysis \u003d TextBlob(self.clean_tweet(tweet))\n        # set sentiment\n        if analysis.sentiment.polarity \u003e 0:\n            return \u0027positive\u0027\n        elif analysis.sentiment.polarity \u003d\u003d 0:\n            return \u0027neutral\u0027\n        else:\n            return \u0027negative\u0027\n\n    def get_tweets(self, query, count\u003d10):\n        \u0027\u0027\u0027\n        Main function to fetch tweets and parse them.\n        \u0027\u0027\u0027\n        # empty list to store parsed tweets\n        tweets \u003d []\n\n        try:\n            # call twitter api to fetch tweets\n            fetched_tweets \u003d self.api.search(q\u003dquery, count\u003dcount)\n\n            # parsing tweets one by one\n            for tweet in fetched_tweets:\n                # empty dictionary to store required params of a tweet\n                parsed_tweet \u003d {}\n\n                # saving text of tweet\n                parsed_tweet[\u0027text\u0027] \u003d tweet.text\n                # saving sentiment of tweet\n                parsed_tweet[\u0027sentiment\u0027] \u003d self.get_tweet_sentiment(tweet.text)\n\n                # appending parsed tweet to tweets list\n                if tweet.retweet_count \u003e 0:\n                    # if tweet has retweets, ensure that it is appended only once\n                    if parsed_tweet not in tweets:\n                        tweets.append(parsed_tweet)\n                else:\n                    tweets.append(parsed_tweet)\n\n            # return parsed tweets\n            return tweets\n\n        except tweepy.TweepError as e:\n            # print error (if any)\n            print(\"Error : \" + str(e))\n\n\ndef main():\n    # creating object of TwitterClient Class\n    api \u003d TwitterClient()\n    # calling function to get tweets\n    tweets \u003d api.get_tweets(query\u003d\u0027twice fancy\u0027, count\u003d200)\n\n    # picking positive tweets from tweets\n    ptweets \u003d [tweet for tweet in tweets if tweet[\u0027sentiment\u0027] \u003d\u003d \u0027positive\u0027]\n    # percentage of positive tweets\n    print(\"Positive tweets percentage: {} %\".format(100 * len(ptweets) / len(tweets)))\n    # picking negative tweets from tweets\n    ntweets \u003d [tweet for tweet in tweets if tweet[\u0027sentiment\u0027] \u003d\u003d \u0027negative\u0027]\n    # percentage of negative tweets\n    print(\"Negative tweets percentage: {} %\".format(100 * len(ntweets) / len(tweets)))\n    # percentage of neutral tweets\n    print(\"Neutral tweets percentage: {} % \\\n            \".format(100 * (len(tweets) - len(ntweets) - len(ptweets)) / len(tweets)))\n\n    # printing first 5 positive tweets\n    print(\"\\n\\nPositive tweets:\")\n    for tweet in ptweets[:10]:\n        print(tweet[\u0027text\u0027])\n\n    # printing first 5 negative tweets\n    print(\"\\n\\nNegative tweets:\")\n    for tweet in ntweets[:10]:\n        print(tweet[\u0027text\u0027])\n\n\nif __name__ \u003d\u003d \"__main__\":\n    # calling main function\n    main()\n",
      "metadata": {
        "pycharm": {
          "metadata": false,
          "name": "#%%\n"
        }
      }
    }
  ],
  "metadata": {
    "language_info": {
      "codemirror_mode": {
        "name": "ipython",
        "version": 2
      },
      "file_extension": ".py",
      "mimetype": "text/x-python",
      "name": "python",
      "nbconvert_exporter": "python",
      "pygments_lexer": "ipython2",
      "version": "2.7.6"
    },
    "kernelspec": {
      "name": "python3",
      "language": "python",
      "display_name": "Python 3"
    },
    "stem_cell": {
      "cell_type": "raw",
      "source": "",
      "metadata": {
        "pycharm": {
          "metadata": false
        }
      }
    }
  },
  "nbformat": 4,
  "nbformat_minor": 0
}