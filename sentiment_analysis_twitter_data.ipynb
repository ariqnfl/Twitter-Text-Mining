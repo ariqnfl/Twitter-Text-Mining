{
  "cells": [
    {
      "cell_type": "code",
      "execution_count": null,
      "outputs": [],
      "source": "from tweepy import API\nfrom tweepy import Cursor\nfrom tweepy.streaming import StreamListener\nfrom tweepy import OAuthHandler\nfrom tweepy import Stream\n\nfrom textblob import TextBlob\n\nimport twitter_credentials\n\nimport matplotlib.pyplot as plt\nimport numpy as np\nimport pandas as pd\nimport re\n\n\n# # # # TWITTER CLIENT # # # #\nclass TwitterClient():\n    def __init__(self, twitter_user\u003dNone):\n        self.auth \u003d TwitterAuthenticator().authenticate_twitter_app()\n        self.twitter_client \u003d API(self.auth)\n\n        self.twitter_user \u003d twitter_user\n\n    def get_twitter_client_api(self):\n        return self.twitter_client\n\n    def get_user_timeline_tweets(self, num_tweets):\n        tweets \u003d []\n        for tweet in Cursor(self.twitter_client.user_timeline, id\u003dself.twitter_user).items(num_tweets):\n            tweets.append(tweet)\n        return tweets\n\n    def get_friend_list(self, num_friends):\n        friend_list \u003d []\n        for friend in Cursor(self.twitter_client.friends, id\u003dself.twitter_user).items(num_friends):\n            friend_list.append(friend)\n        return friend_list\n\n    def get_home_timeline_tweets(self, num_tweets):\n        home_timeline_tweets \u003d []\n        for tweet in Cursor(self.twitter_client.home_timeline, id\u003dself.twitter_user).items(num_tweets):\n            home_timeline_tweets.append(tweet)\n        return home_timeline_tweets\n\n\n# # # # TWITTER AUTHENTICATER # # # #\nclass TwitterAuthenticator():\n\n    def authenticate_twitter_app(self):\n        auth \u003d OAuthHandler(twitter_credentials.CONSUMER_KEY, twitter_credentials.CONSUMER_SECRET)\n        auth.set_access_token(twitter_credentials.ACCESS_TOKEN, twitter_credentials.ACCESS_TOKEN_SECRET)\n        return auth\n\n\n# # # # TWITTER STREAMER # # # #\nclass TwitterStreamer():\n    \"\"\"\n    Class for streaming and processing live tweets.\n    \"\"\"\n\n    def __init__(self):\n        self.twitter_autenticator \u003d TwitterAuthenticator()\n\n    def stream_tweets(self, fetched_tweets_filename, hash_tag_list):\n        # This handles Twitter authetification and the connection to Twitter Streaming API\n        listener \u003d TwitterListener(fetched_tweets_filename)\n        auth \u003d self.twitter_autenticator.authenticate_twitter_app()\n        stream \u003d Stream(auth, listener)\n\n        # This line filter Twitter Streams to capture data by the keywords:\n        stream.filter(track\u003dhash_tag_list)\n\n\n# # # # TWITTER STREAM LISTENER # # # #\nclass TwitterListener(StreamListener):\n    \"\"\"\n    This is a basic listener that just prints received tweets to stdout.\n    \"\"\"\n\n    def __init__(self, fetched_tweets_filename):\n        self.fetched_tweets_filename \u003d fetched_tweets_filename\n\n    def on_data(self, data):\n        try:\n            print(data)\n            with open(self.fetched_tweets_filename, \u0027a\u0027) as tf:\n                tf.write(data)\n            return True\n        except BaseException as e:\n            print(\"Error on_data %s\" % str(e))\n        return True\n\n    def on_error(self, status):\n        if status \u003d\u003d 420:\n            # Returning False on_data method in case rate limit occurs.\n            return False\n        print(status)\n\n\nclass TweetAnalyzer():\n    \"\"\"\n    Functionality for analyzing and categorizing content from tweets.\n    \"\"\"\n\n    def clean_tweet(self, tweet):\n        return \u0027 \u0027.join(re.sub(\"(@[A-Za-z0-9]+)|([^0-9A-Za-z \\t])|(\\w+:\\/\\/\\S+)\", \" \", tweet).split())\n\n    def analyze_sentiment(self, tweet):\n        analysis \u003d TextBlob(self.clean_tweet(tweet))\n\n        if analysis.sentiment.polarity \u003e 0:\n            return 1\n        elif analysis.sentiment.polarity \u003d\u003d 0:\n            return 0\n        else:\n            return -1\n\n    def tweets_to_data_frame(self, tweets):\n        df \u003d pd.DataFrame(data\u003d[tweet.text for tweet in tweets], columns\u003d[\u0027tweets\u0027])\n\n        df[\u0027id\u0027] \u003d np.array([tweet.id for tweet in tweets])\n        df[\u0027len\u0027] \u003d np.array([len(tweet.text) for tweet in tweets])\n        df[\u0027date\u0027] \u003d np.array([tweet.created_at for tweet in tweets])\n        df[\u0027source\u0027] \u003d np.array([tweet.source for tweet in tweets])\n        df[\u0027likes\u0027] \u003d np.array([tweet.favorite_count for tweet in tweets])\n        df[\u0027retweets\u0027] \u003d np.array([tweet.retweet_count for tweet in tweets])\n\n        return df\n\n\nif __name__ \u003d\u003d \u0027__main__\u0027:\n    twitter_client \u003d TwitterClient()\n    tweet_analyzer \u003d TweetAnalyzer()\n\n    api \u003d twitter_client.get_twitter_client_api()\n\n    tweets \u003d api.user_timeline(screen_name\u003d\"SubjectKpop\", count\u003d200)\n\n    df \u003d tweet_analyzer.tweets_to_data_frame(tweets)\n    df[\u0027sentiment\u0027] \u003d np.array([tweet_analyzer.analyze_sentiment(tweet) for tweet in df[\u0027tweets\u0027]])\n\n    print(df.head(10))\n\n",
      "metadata": {
        "pycharm": {
          "metadata": false,
          "name": "#%%\n"
        }
      }
    }
  ],
  "metadata": {
    "language_info": {
      "codemirror_mode": {
        "name": "ipython",
        "version": 2
      },
      "file_extension": ".py",
      "mimetype": "text/x-python",
      "name": "python",
      "nbconvert_exporter": "python",
      "pygments_lexer": "ipython2",
      "version": "2.7.6"
    },
    "kernelspec": {
      "name": "python3",
      "language": "python",
      "display_name": "Python 3"
    },
    "stem_cell": {
      "cell_type": "raw",
      "source": "",
      "metadata": {
        "pycharm": {
          "metadata": false
        }
      }
    }
  },
  "nbformat": 4,
  "nbformat_minor": 0
}